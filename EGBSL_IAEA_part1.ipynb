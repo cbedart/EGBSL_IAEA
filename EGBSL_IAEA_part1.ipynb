{
  "nbformat": 4,
  "nbformat_minor": 0,
  "metadata": {
    "colab": {
      "provenance": [],
      "authorship_tag": "ABX9TyPkdMl+SLru6wqPMI3ceVJ/",
      "include_colab_link": true
    },
    "kernelspec": {
      "name": "python3",
      "display_name": "Python 3"
    },
    "language_info": {
      "name": "python"
    }
  },
  "cells": [
    {
      "cell_type": "markdown",
      "metadata": {
        "id": "view-in-github",
        "colab_type": "text"
      },
      "source": [
        "<a href=\"https://colab.research.google.com/github/cbedart/EGBSL_IAEA/blob/main/EGBSL_IAEA_part1.ipynb\" target=\"_parent\"><img src=\"https://colab.research.google.com/assets/colab-badge.svg\" alt=\"Open In Colab\"/></a>"
      ]
    },
    {
      "cell_type": "markdown",
      "source": [
        "**<center><h1>EGBSL - IAES - Part #1</h1></center>**\n",
        "\n",
        "---"
      ],
      "metadata": {
        "id": "suthTsuIRDco"
      }
    },
    {
      "cell_type": "code",
      "execution_count": null,
      "metadata": {
        "cellView": "form",
        "id": "CyoDW2nmGmq3"
      },
      "outputs": [],
      "source": [
        "# @title Loading of prerequisites packages\n",
        "\n",
        "import pandas as pd\n",
        "import numpy as np\n",
        "\n",
        "import matplotlib.pyplot as plt\n",
        "\n",
        "import seaborn as sns; sns.set()\n",
        "from sklearn.decomposition import PCA, KernelPCA\n",
        "from sklearn import preprocessing\n",
        "from sklearn import decomposition\n",
        "from sklearn import datasets\n",
        "from sklearn.cluster import KMeans\n",
        "\n",
        "import ipywidgets as widgets\n",
        "from IPython.display import clear_output\n",
        "\n",
        "import plotly.express as px\n",
        "\n",
        "np.seterr(divide='ignore', invalid='ignore')\n",
        "\n",
        "!wget https://github.com/cbedart/EGBSL_IAEA/raw/refs/heads/main/computed_desc_GR_tosave.pkl\n",
        "print(\"\\n\\n\\033[1mPrerequisites succesfully installed !\\033[0m\")"
      ]
    },
    {
      "cell_type": "code",
      "source": [
        "# @title Glucocorticoid ligand dataset\n",
        "# @markdown Dataset information:\n",
        "# @markdown - 218 features = Molecular descriptors\n",
        "# @markdown - Generated from 1703 different compounds\n",
        "# @markdown - BindingDB_ID = Identifier\n",
        "# @markdown - IC50/pIC50 = Biological activity value\n",
        "\n",
        "desc_GR_noNA = pd.read_pickle(\"computed_desc_GR_tosave.pkl\").dropna(axis=\"columns\")\n",
        "desc_GR = desc_GR_noNA.copy()\n",
        "desc_GR_noNA"
      ],
      "metadata": {
        "cellView": "form",
        "id": "Gdym39MHJ7Mg"
      },
      "execution_count": null,
      "outputs": []
    },
    {
      "cell_type": "markdown",
      "source": [
        "<h1><b><font color='#0E0'> → Explore the dataset to see the different features </font></b></h1>\n",
        "\n",
        "---\n"
      ],
      "metadata": {
        "id": "jrZlhpxrRKrN"
      }
    },
    {
      "cell_type": "code",
      "source": [
        "# @title The very first Principal Component Analysis (PCA) model\n",
        "\n",
        "X = desc_GR_noNA.iloc[:,3:]\n",
        "\n",
        "pca_v1 = PCA(n_components=10)\n",
        "pca_v1_result = pca_v1.fit_transform(X)\n",
        "principal_components = pca_v1.components_\n",
        "\n",
        "plt.figure(figsize=(8, 6))\n",
        "plt.scatter(pca_v1_result[:, 0], pca_v1_result[:, 1])\n",
        "plt.title('PCA of Descriptor Data')\n",
        "plt.xlabel('Principal Component 1')\n",
        "plt.ylabel('Principal Component 2')\n",
        "plt.grid(True)\n",
        "plt.show()"
      ],
      "metadata": {
        "cellView": "form",
        "id": "JA6YZFBLKoqp"
      },
      "execution_count": null,
      "outputs": []
    },
    {
      "cell_type": "markdown",
      "source": [
        "<h1><b><font color='#0E0'> → Is there something strange with this PCA?</font></b></h1>\n",
        "\n",
        "---\n"
      ],
      "metadata": {
        "id": "lijFl_81STqR"
      }
    },
    {
      "cell_type": "code",
      "source": [
        "# @title Scaling & normalization of the dataset\n",
        "\n",
        "scaler_temp = preprocessing.StandardScaler()\n",
        "norm_temp = pd.DataFrame(preprocessing.normalize(scaler_temp.fit_transform(desc_GR_noNA.iloc[:,3:])))\n",
        "norm_temp.columns = desc_GR_noNA.iloc[:,3:].columns\n",
        "\n",
        "desc_GR_normalized = pd.concat([desc_GR_noNA.iloc[:,:3], norm_temp], axis=\"columns\")\n",
        "\n",
        "desc_GR_normalized_noNA = desc_GR_normalized.dropna(axis=\"columns\")\n",
        "desc_GR_normalized_noNA"
      ],
      "metadata": {
        "cellView": "form",
        "id": "U-4i5TgwK3OY"
      },
      "execution_count": null,
      "outputs": []
    },
    {
      "cell_type": "code",
      "source": [
        "# @title Second PCA model\n",
        "\n",
        "X = desc_GR_normalized_noNA.iloc[:,3:]\n",
        "\n",
        "pca_v2 = PCA(n_components=30)\n",
        "pca_v2_result = pca_v2.fit_transform(X)\n",
        "principal_components = pca_v2.components_\n",
        "\n",
        "\n",
        "plt.figure(figsize=(8, 6))\n",
        "plt.scatter(pca_v2_result[:, 0], pca_v2_result[:, 1])\n",
        "plt.title('PCA of Descriptor Data')\n",
        "plt.xlabel('Principal Component 1 - {:.2f}% of explained variance'.format(100*pca_v2.explained_variance_[0]))\n",
        "plt.ylabel('Principal Component 2 - {:.2f}% of explained variance'.format(100*pca_v2.explained_variance_[1]))\n",
        "plt.grid(True)\n",
        "plt.show()\n",
        "\n",
        "print(\"Explained variances of the 30 first principal components:\")\n",
        "print(pca_v2.explained_variance_)"
      ],
      "metadata": {
        "cellView": "form",
        "id": "Mo8dOqX9StBC"
      },
      "execution_count": null,
      "outputs": []
    },
    {
      "cell_type": "markdown",
      "source": [
        "<h1><b><font color='#0E0'> → Is this better?</font></b></h1>\n",
        "\n",
        "---\n"
      ],
      "metadata": {
        "id": "HEOAlGwYS2te"
      }
    },
    {
      "cell_type": "code",
      "source": [
        "# @title In 3D\n",
        "\n",
        "fig2 = px.scatter_3d(x=pca_v2_result[:, 0], y=pca_v2_result[:, 1], z=pca_v2_result[:, 2], width=600, height=600)\n",
        "fig2.update_traces(marker_size = 2)\n",
        "fig2.show()"
      ],
      "metadata": {
        "cellView": "form",
        "id": "KVSdDTAKS0bu"
      },
      "execution_count": null,
      "outputs": []
    },
    {
      "cell_type": "code",
      "source": [
        "#@title Same PCA but with custom color parameters\n",
        "\n",
        "descriptor_picker = widgets.Dropdown(options=desc_GR_normalized_noNA.columns[1:], value='MolWt')\n",
        "from plotly.offline import download_plotlyjs, init_notebook_mode, plot, iplot\n",
        "outs = widgets.Output()\n",
        "\n",
        "def generation_PCA_fig_v2(x):\n",
        "  with outs:\n",
        "    clear_output()\n",
        "\n",
        "    plt.figure(figsize=(8, 6))\n",
        "    # plt.subplot(121)\n",
        "\n",
        "    a = plt.scatter(pca_v2_result[:,0], pca_v2_result[:,1], c = desc_GR[descriptor_picker.value], cmap=\"turbo\")\n",
        "    plt.colorbar(a)\n",
        "    plt.title('PCA of Descriptor Data')\n",
        "    plt.xlabel('Principal Component 1 - {:.2f}% of explained variance'.format(100*pca_v2.explained_variance_[0]))\n",
        "    plt.ylabel('Principal Component 2 - {:.2f}% of explained variance'.format(100*pca_v2.explained_variance_[1]))\n",
        "    plt.grid(True)\n",
        "    plt.show()\n",
        "    # plt.subplot(122, projection='3d')\n",
        "    # b = plt.scatter(pca_v2_result[:,0], pca_v2_result[:,1], pca_v2_result[:,2], c = desc_GR[descriptor_picker.value], cmap=\"turbo\")\n",
        "    # plt.colorbar(b)\n",
        "    # plt.title('PCA of Descriptor Data')\n",
        "    # plt.xlabel('Principal Component 1')\n",
        "    # plt.ylabel('Principal Component 2')\n",
        "    # plt.grid(True)\n",
        "    # plt.show()\n",
        "\n",
        "display(descriptor_picker)\n",
        "display(outs)\n",
        "generation_PCA_fig_v2(descriptor_picker.value)\n",
        "descriptor_picker.observe(generation_PCA_fig_v2, names='value')"
      ],
      "metadata": {
        "cellView": "form",
        "id": "JdtmWBHzSg7O"
      },
      "execution_count": null,
      "outputs": []
    },
    {
      "cell_type": "code",
      "source": [
        "#@title Feature importance in PC1 and PC2\n",
        "\n",
        "feature_names = desc_GR_normalized_noNA.iloc[:, 3:].columns\n",
        "\n",
        "pc1_loadings = pd.Series(np.abs(pca_v2.components_[0]), index=feature_names)\n",
        "top_30_pc1 = pc1_loadings.sort_values(ascending=False).head(30)\n",
        "plt.figure(figsize=(10, 8))\n",
        "sns.barplot(x=top_30_pc1.values, y=top_30_pc1.index)\n",
        "plt.title('Top 30 Features in Principal Component 1')\n",
        "plt.xlabel('Absolute Loading Value')\n",
        "plt.ylabel('Feature Name')\n",
        "plt.tight_layout()\n",
        "plt.show()\n",
        "\n",
        "pc2_loadings = pd.Series(np.abs(pca_v2.components_[1]), index=feature_names)\n",
        "top_30_pc2 = pc2_loadings.sort_values(ascending=False).head(30)\n",
        "plt.figure(figsize=(10, 8))\n",
        "sns.barplot(x=top_30_pc2.values, y=top_30_pc2.index)\n",
        "plt.title('Top 30 Features in Principal Component 2')\n",
        "plt.xlabel('Absolute Loading Value')\n",
        "plt.ylabel('Feature Name')\n",
        "plt.tight_layout()\n",
        "plt.show()\n"
      ],
      "metadata": {
        "cellView": "form",
        "id": "JoIz4oXTntwS"
      },
      "execution_count": null,
      "outputs": []
    },
    {
      "cell_type": "markdown",
      "source": [
        "<h1><b><font color='#0E0'> → Do any features seem correlated to you?</font></b></h1>\n",
        "\n",
        "---\n"
      ],
      "metadata": {
        "id": "RxqYW7YvTAWt"
      }
    },
    {
      "cell_type": "code",
      "source": [
        "# @title Removal of highly correlated features\n",
        "\n",
        "def elimcor_sansY(X, s=0.95):\n",
        "    correl = np.corrcoef(X, rowvar=False)\n",
        "    stop = False\n",
        "    possetap = list(range(X.shape[1]))\n",
        "    groupes = {i: [i] for i in range(X.shape[1])}\n",
        "\n",
        "    while not stop:\n",
        "        # Regroup variables for which |corr| > threshold\n",
        "        gplist = {}\n",
        "        possglob = list(range(correl.shape[0]))\n",
        "        for i in range(correl.shape[0]):\n",
        "            poss = possglob[:i] + possglob[i+1:]\n",
        "            gplist[i] = [i] + [poss[j] for j in range(len(poss)) if abs(correl[i, poss[j]]) > s]\n",
        "\n",
        "        # Sort groups from largest to smallest\n",
        "        gplisteff = {k: len(v) for k, v in gplist.items()}\n",
        "        if any(val > 1 for val in gplisteff.values()):\n",
        "            gplistfin = {k: v for k, v in gplist.items() if gplisteff[k] > 1}\n",
        "            gplistuniq = [k for k, v in gplisteff.items() if v == 1]\n",
        "            gpsel = []\n",
        "            for i in gplistfin.values():\n",
        "                selloc = min(i)\n",
        "                gploc = groupes[possetap[selloc]]\n",
        "                for j in i:\n",
        "                    gploc.extend(groupes[possetap[j]])\n",
        "                groupes[possetap[selloc]] = list(set(gploc))\n",
        "                gpsel.append(selloc)\n",
        "            possetap = [val for idx, val in enumerate(possetap) if idx in gplistuniq or val in set(gpsel)]\n",
        "            correl = np.corrcoef(X.iloc[:,possetap], rowvar=False)\n",
        "        else:\n",
        "            stop = True\n",
        "\n",
        "    return {\"possetap\": possetap, \"groups\": list(groupes.values())}\n",
        "\n",
        "################################################################################\n",
        "\n",
        "X = desc_GR_normalized_noNA.iloc[:,3:]\n",
        "elimcor = elimcor_sansY(X, 0.9)\n",
        "desc_GR_nocorr = pd.concat([desc_GR_normalized_noNA.iloc[:,:3], X.iloc[:,elimcor[\"possetap\"]]], axis=\"columns\")\n",
        "desc_GR_nocorr"
      ],
      "metadata": {
        "id": "p-nvaou2S-0W",
        "cellView": "form"
      },
      "execution_count": null,
      "outputs": []
    },
    {
      "cell_type": "code",
      "source": [
        "#@title Third PCA model\n",
        "\n",
        "X = desc_GR_nocorr.iloc[:,3:]\n",
        "\n",
        "pca_v3 = PCA(n_components=30)\n",
        "pca_v3_result = pca_v3.fit_transform(X)\n",
        "principal_components = pca_v3.components_\n",
        "\n",
        "descriptor_picker2 = widgets.Dropdown(options=desc_GR_nocorr.columns[1:], value='Steroidal')\n",
        "\n",
        "outs = widgets.Output()\n",
        "\n",
        "def generation_PCA_fig_v3(x):\n",
        "  with outs:\n",
        "    clear_output()\n",
        "    plt.figure(figsize=(8, 6))\n",
        "    a = plt.scatter(pca_v3_result[:,0], pca_v3_result[:,1], c = desc_GR[descriptor_picker2.value], cmap=\"turbo\")\n",
        "    plt.colorbar(a)\n",
        "    plt.title('PCA of Descriptor Data')\n",
        "    plt.xlabel('Principal Component 1 - {:.2f}% of explained variance'.format(100*pca_v3.explained_variance_[0]))\n",
        "    plt.ylabel('Principal Component 2 - {:.2f}% of explained variance'.format(100*pca_v3.explained_variance_[1]))\n",
        "    plt.grid(True)\n",
        "    plt.show()\n",
        "\n",
        "display(descriptor_picker2)\n",
        "display(outs)\n",
        "generation_PCA_fig_v3(descriptor_picker2.value)\n",
        "descriptor_picker2.observe(generation_PCA_fig_v3, names='value')\n",
        "\n",
        "print(\"Explained variances of the 30 first principal components:\")\n",
        "print(pca_v3.explained_variance_)"
      ],
      "metadata": {
        "cellView": "form",
        "id": "nZYZ8hIuTVQp"
      },
      "execution_count": null,
      "outputs": []
    },
    {
      "cell_type": "markdown",
      "source": [
        "<h1><b><font color='#0E0'> → Can we cluster the steroidal feature to remove them?</font></b></h1>\n",
        "\n",
        "---\n",
        "\n",
        "---\n",
        "\n",
        "---"
      ],
      "metadata": {
        "id": "EZlbqxkCorZX"
      }
    },
    {
      "cell_type": "code",
      "source": [
        "# @title Where are the steroidal compounds?\n",
        "\n",
        "fig3 = px.scatter_3d(x=pca_v3_result[:, 0], y=pca_v3_result[:, 1], z=pca_v3_result[:, 2], width=600, height=600, color_continuous_scale=[\"red\", \"blue\"], color=desc_GR[\"Steroidal\"], labels={\"color\": \"Steroidal\"})\n",
        "fig3.update_traces(marker_size = 2)\n",
        "fig3.show()"
      ],
      "metadata": {
        "cellView": "form",
        "id": "6CY3G2ltoylE"
      },
      "execution_count": null,
      "outputs": []
    },
    {
      "cell_type": "code",
      "source": [
        "# @title K-means clustering to generate X groups\n",
        "\n",
        "X = desc_GR_nocorr.iloc[:,3:]\n",
        "\n",
        "choice_nb_clusters = widgets.Dropdown(options=list(range(2,10)), value=2)\n",
        "outs_kmeans = widgets.Output()\n",
        "\n",
        "def on_nb_change(change):\n",
        "  with outs_kmeans:\n",
        "    clear_output()\n",
        "    kmeans = KMeans(n_clusters=choice_nb_clusters.value, n_init=29, random_state=0)\n",
        "    kmeans.fit(X)\n",
        "    cluster_labels = kmeans.labels_\n",
        "    cluster_labels\n",
        "    cluster_centers = pd.DataFrame(kmeans.cluster_centers_)\n",
        "    cluster_centers.columns = X.columns\n",
        "    cluster_centers_pca = pca_v3.transform(cluster_centers)\n",
        "    plt.figure(figsize=(6.3, 6))\n",
        "    plt.scatter(pca_v3_result[:, 0], pca_v3_result[:, 1], c=cluster_labels, cmap=\"Accent\")\n",
        "    plt.scatter(cluster_centers_pca[:, 0], cluster_centers_pca[:, 1], marker='o', c='red', s=20, label='Centroids')\n",
        "        # Add cluster ID next to each centroid\n",
        "    for i, txt in enumerate(cluster_centers.index):\n",
        "        plt.annotate(txt, (cluster_centers_pca[i, 0], cluster_centers_pca[i, 1]), textcoords=\"offset points\", xytext=(0,10), ha='center', fontweight=\"bold\")\n",
        "\n",
        "    plt.title('KMeans Clustering with {} clusters'.format(choice_nb_clusters.value))\n",
        "    plt.xlabel('Principal Component 1 - {:.2f}% of explained variance'.format(100*pca_v3.explained_variance_[0]))\n",
        "    plt.ylabel('Principal Component 2 - {:.2f}% of explained variance'.format(100*pca_v3.explained_variance_[1]))\n",
        "    plt.legend()\n",
        "    plt.show()\n",
        "\n",
        "    plt.figure(figsize=(8, 6))\n",
        "    a = plt.scatter(pca_v3_result[:,0], pca_v3_result[:,1], c = desc_GR[\"Steroidal\"], cmap=\"turbo\")\n",
        "    plt.colorbar(a)\n",
        "    plt.title('PCA of Descriptor Data')\n",
        "    plt.xlabel('Principal Component 1 - {:.2f}% of explained variance'.format(100*pca_v3.explained_variance_[0]))\n",
        "    plt.ylabel('Principal Component 2 - {:.2f}% of explained variance'.format(100*pca_v3.explained_variance_[1]))\n",
        "    plt.grid(True)\n",
        "    plt.show()\n",
        "\n",
        "    desc_GR_clustered = pd.concat([desc_GR_nocorr.iloc[:,:3], pd.DataFrame(cluster_labels, columns=[\"Cluster\"]), desc_GR_nocorr.iloc[:,3:]], axis = \"columns\")\n",
        "    desc_GR_clustered['Steroidal'] = desc_GR_clustered['Steroidal'].apply(lambda x: 'Steroidal' if x > 0 else 'Non steroidal')\n",
        "    print(desc_GR_clustered.groupby(\"Cluster\")[\"Steroidal\"].value_counts())\n",
        "\n",
        "    desc_GR_clustered = pd.concat([desc_GR_nocorr.iloc[:,:3], pd.DataFrame(cluster_labels, columns=[\"Cluster\"]), desc_GR_nocorr.iloc[:,3:]], axis = \"columns\")\n",
        "    display(desc_GR_clustered)\n",
        "\n",
        "display(choice_nb_clusters)\n",
        "display(outs_kmeans)\n",
        "\n",
        "on_nb_change(2)\n",
        "choice_nb_clusters.observe(on_nb_change, names='value')\n"
      ],
      "metadata": {
        "cellView": "form",
        "id": "VFd3n3N6o11d"
      },
      "execution_count": null,
      "outputs": []
    },
    {
      "cell_type": "markdown",
      "source": [
        "<h1><b><font color='#0E0'> → How many clusters we can divide the subset into to efficiently remove the steroidal compounds?</font></b></h1>\n",
        "\n",
        "---"
      ],
      "metadata": {
        "id": "Qotmtdnpr3aq"
      }
    },
    {
      "cell_type": "code",
      "source": [
        "# @title With 3 clusters, by removing the right cluster that includes the steroids\n",
        "# @ markdown Data have been re-normalized\n",
        "\n",
        "X = desc_GR_nocorr.iloc[:,3:]\n",
        "kmeans = KMeans(n_clusters=3, n_init=29, random_state=0)\n",
        "kmeans.fit(X)\n",
        "cluster_labels = kmeans.labels_\n",
        "desc_GR_clustered = pd.concat([desc_GR_nocorr.iloc[:,:3], pd.DataFrame(cluster_labels, columns=[\"Cluster\"]), desc_GR_nocorr.iloc[:,3:]], axis = \"columns\")\n",
        "\n",
        "desc_GR_clustered_filtered = desc_GR_nocorr.loc[desc_GR_clustered[\"Cluster\"] != desc_GR_clustered.loc[1700,\"Cluster\"]]\n",
        "desc_GR_clustered_filtered = desc_GR_clustered_filtered.dropna(axis=\"columns\")\n",
        "desc_GR_clustered_filtered.index = range(len(desc_GR_clustered_filtered))\n",
        "\n",
        "# desc_GR_clustered_normalized = pd.concat([desc_GR_clustered_filtered.iloc[:,:4], (desc_GR_clustered_filtered.iloc[:,4:] - desc_GR_clustered_filtered.iloc[:,4:].mean()) / desc_GR_clustered_filtered.iloc[:,4:].std()], axis=\"columns\")\n",
        "\n",
        "scaler_temp = preprocessing.StandardScaler()\n",
        "norm_temp = pd.DataFrame(preprocessing.normalize(scaler_temp.fit_transform(desc_GR_clustered_filtered.iloc[:,4:])))\n",
        "norm_temp.columns = desc_GR_clustered_filtered.iloc[:,4:].columns\n",
        "\n",
        "desc_GR_clustered_normalized = pd.concat([desc_GR_clustered_filtered.iloc[:,:4], norm_temp], axis=\"columns\")\n",
        "desc_GR_clustered_normalized_noNA = desc_GR_clustered_normalized.dropna(axis=\"columns\")\n",
        "desc_GR_clustered_normalized_noNA\n",
        "\n",
        "\n",
        "\n",
        "X = desc_GR_clustered_normalized_noNA.iloc[:,3:]\n",
        "\n",
        "pca_v4 = PCA(n_components=30)\n",
        "pca_v4_result = pca_v4.fit_transform(X)\n",
        "principal_components = pca_v4.components_\n",
        "\n",
        "descriptor_picker2 = widgets.Dropdown(options=desc_GR_clustered_normalized_noNA.columns[1:], value='Steroidal')\n",
        "\n",
        "outs = widgets.Output()\n",
        "\n",
        "def generation_PCA_fig_v4(x):\n",
        "  with outs:\n",
        "    clear_output()\n",
        "    plt.figure(figsize=(8, 6))\n",
        "    a = plt.scatter(pca_v4_result[:,0], pca_v4_result[:,1], c = desc_GR_clustered_normalized_noNA[descriptor_picker2.value], cmap=\"turbo\")\n",
        "    plt.colorbar(a)\n",
        "    plt.title('PCA of Descriptor Data')\n",
        "    plt.xlabel('Principal Component 1 - {:.2f}% of explained variance'.format(100*pca_v4.explained_variance_[0]))\n",
        "    plt.ylabel('Principal Component 2 - {:.2f}% of explained variance'.format(100*pca_v4.explained_variance_[1]))\n",
        "    plt.grid(True)\n",
        "    plt.show()\n",
        "\n",
        "display(descriptor_picker2)\n",
        "display(outs)\n",
        "generation_PCA_fig_v4(descriptor_picker2.value)\n",
        "descriptor_picker2.observe(generation_PCA_fig_v4, names='value')\n",
        "\n",
        "print(\"Explained variances of the 30 first principal components:\")\n",
        "print(pca_v4.explained_variance_)\n",
        "\n",
        "\n",
        "desc_GR_clustered_normalized_noNA"
      ],
      "metadata": {
        "id": "e-46FD7Psi-o",
        "cellView": "form"
      },
      "execution_count": null,
      "outputs": []
    },
    {
      "cell_type": "code",
      "source": [
        "#@title How many compounds to keep to explain 95% of the total variance?\n",
        "\n",
        "X = desc_GR_clustered_normalized_noNA.iloc[:,3:]\n",
        "pca_v5 = PCA(n_components=60)\n",
        "pca_v5_result = pca_v5.fit_transform(X)\n",
        "principal_components = pca_v5.components_\n",
        "\n",
        "cumulative_variance = np.cumsum(pca_v5.explained_variance_ratio_)\n",
        "\n",
        "plt.figure(figsize=(8, 6))\n",
        "plt.plot(range(1, len(cumulative_variance) + 1), cumulative_variance, marker='o', markersize=3)\n",
        "plt.title('Cumulative Explained Variance by Principal Components')\n",
        "plt.xlabel('Number of Principal Components')\n",
        "plt.ylabel('Cumulative Explained Variance Ratio')\n",
        "plt.axhline(y=0.95, color='r', linestyle='--', label='95% Explained Variance')\n",
        "plt.legend()\n",
        "plt.grid(True)\n",
        "plt.show()\n",
        "\n",
        "n_components_95 = np.argmax(cumulative_variance >= 0.95) + 1\n",
        "print(f\"95% cumulative explained variances using the \\033[1m{n_components_95}\\033[0m first principal components:\")\n",
        "\n",
        "######################\n",
        "\n",
        "desc_GR_PCA_53c_temp = pd.DataFrame(pca_v5_result).iloc[:,0:n_components_95]\n",
        "desc_GR_PCA_53c = pd.concat([desc_GR_clustered_normalized_noNA.iloc[:,0:3], desc_GR_PCA_53c_temp], axis=1)\n",
        "desc_GR_PCA_53c"
      ],
      "metadata": {
        "cellView": "form",
        "id": "wMfeihCwL-1-"
      },
      "execution_count": null,
      "outputs": []
    },
    {
      "cell_type": "markdown",
      "source": [
        "\n",
        "---\n",
        "\n",
        "---\n",
        "\n",
        "---"
      ],
      "metadata": {
        "id": "SfoF-Usczuf8"
      }
    },
    {
      "cell_type": "code",
      "source": [
        "#@title Install tSNE and UMAP packages\n",
        "\n",
        "!pip install umap-learn\n",
        "from sklearn.manifold import TSNE\n",
        "import umap\n",
        "\n",
        "print(\"Installed!\")"
      ],
      "metadata": {
        "cellView": "form",
        "id": "sb-A4OtJzkUl"
      },
      "execution_count": null,
      "outputs": []
    },
    {
      "cell_type": "code",
      "source": [
        "#@title UMAP vs tSNE vs UMAP using the final dataset ...\n",
        "\n",
        "X = desc_GR_clustered_normalized_noNA.iloc[:, 3:]\n",
        "\n",
        "if 'tsne_result' not in locals() and 'tsne_result' not in globals():\n",
        "    tsne = TSNE(n_components=2, random_state=42, n_iter=300) # Reduced iterations for faster execution\n",
        "    tsne_result = tsne.fit_transform(X)\n",
        "\n",
        "if 'umap_result' not in locals() and 'umap_result' not in globals():\n",
        "  umap_reducer = umap.UMAP(n_neighbors=15, n_components=2, min_dist=0.1, random_state=42)\n",
        "  umap_result = umap_reducer.fit_transform(X)\n",
        "\n",
        "# Create a DataFrame for plotting\n",
        "plot_data = pd.DataFrame({'PCA_1': pca_v4_result[:, 0],\n",
        "                          'PCA_2': pca_v4_result[:, 1],\n",
        "                          'tSNE_1': tsne_result[:, 0],\n",
        "                          'tSNE_2': tsne_result[:, 1],\n",
        "                          'UMAP_1': umap_result[:, 0],\n",
        "                          'UMAP_2': umap_result[:, 1],\n",
        "                          'Steroidal': desc_GR_clustered_normalized_noNA['Steroidal'],\n",
        "                          'BindingDB_ID': desc_GR_clustered_normalized_noNA['BindingDB_ID'],\n",
        "                          'IC50': desc_GR_clustered_normalized_noNA['IC50']\n",
        "                         })\n",
        "\n",
        "# Plotting\n",
        "plt.figure(figsize=(18, 6))\n",
        "\n",
        "# PCA plot\n",
        "plt.subplot(1, 3, 1)\n",
        "sns.scatterplot(x='PCA_1', y='PCA_2', data=plot_data, palette='viridis', s=20)\n",
        "plt.title('PCA')\n",
        "plt.xlabel(f'Principal Component 1 - {100*pca_v3.explained_variance_[0]:.2f}%')\n",
        "plt.ylabel(f'Principal Component 2 - {100*pca_v3.explained_variance_[1]:.2f}%')\n",
        "plt.grid(True)\n",
        "\n",
        "# t-SNE plot\n",
        "plt.subplot(1, 3, 2)\n",
        "sns.scatterplot(x='tSNE_1', y='tSNE_2', data=plot_data, palette='viridis', s=20)\n",
        "plt.title('t-SNE')\n",
        "plt.xlabel('t-SNE Component 1')\n",
        "plt.ylabel('t-SNE Component 2')\n",
        "plt.grid(True)\n",
        "\n",
        "# UMAP plot\n",
        "plt.subplot(1, 3, 3)\n",
        "sns.scatterplot(x='UMAP_1', y='UMAP_2', data=plot_data, palette='viridis', s=20)\n",
        "plt.title('UMAP')\n",
        "plt.xlabel('UMAP Component 1')\n",
        "plt.ylabel('UMAP Component 2')\n",
        "plt.grid(True)\n",
        "\n",
        "plt.tight_layout()\n",
        "plt.show()"
      ],
      "metadata": {
        "cellView": "form",
        "id": "iRmkdAxXtfQv"
      },
      "execution_count": null,
      "outputs": []
    },
    {
      "cell_type": "code",
      "source": [
        "#@title ... and UMAP vs tSNE vs UMAP using the dataset before removing the steroidal compounds\n",
        "\n",
        "X = desc_GR_nocorr.iloc[:, 3:]\n",
        "\n",
        "if 'tsne_result2' not in locals() and 'tsne_result2' not in globals():\n",
        "    tsne = TSNE(n_components=2, random_state=42, n_iter=300)\n",
        "    tsne_result2 = tsne.fit_transform(X)\n",
        "\n",
        "if 'umap_result2' not in locals() and 'umap_result2' not in globals():\n",
        "  umap_reducer = umap.UMAP(n_neighbors=15, n_components=2, min_dist=0.1, random_state=42)\n",
        "  umap_result2 = umap_reducer.fit_transform(X)\n",
        "\n",
        "# Create a DataFrame for plotting\n",
        "plot_data = pd.DataFrame({'PCA_1': pca_v3_result[:, 0],\n",
        "                          'PCA_2': pca_v3_result[:, 1],\n",
        "                          'tSNE_1': tsne_result2[:, 0],\n",
        "                          'tSNE_2': tsne_result2[:, 1],\n",
        "                          'UMAP_1': umap_result2[:, 0],\n",
        "                          'UMAP_2': umap_result2[:, 1],\n",
        "                          'Steroidal': desc_GR_nocorr['Steroidal'].apply(lambda x: 'Steroidal' if x > 0 else 'Non steroidal'),\n",
        "                          'BindingDB_ID': desc_GR_nocorr['BindingDB_ID'],\n",
        "                          'IC50': desc_GR_nocorr['IC50']\n",
        "                         })\n",
        "\n",
        "# Plotting\n",
        "plt.figure(figsize=(18, 6))\n",
        "\n",
        "# PCA plot\n",
        "plt.subplot(1, 3, 1)\n",
        "sns.scatterplot(x='PCA_1', y='PCA_2', hue=\"Steroidal\", data=plot_data, s=20)\n",
        "plt.title('PCA')\n",
        "plt.xlabel(f'Principal Component 1 - {100*pca_v3.explained_variance_[0]:.2f}%')\n",
        "plt.ylabel(f'Principal Component 2 - {100*pca_v3.explained_variance_[1]:.2f}%')\n",
        "plt.grid(True)\n",
        "\n",
        "# t-SNE plot\n",
        "plt.subplot(1, 3, 2)\n",
        "sns.scatterplot(x='tSNE_1', y='tSNE_2', hue=\"Steroidal\", data=plot_data, s=20)\n",
        "plt.title('t-SNE')\n",
        "plt.xlabel('t-SNE Component 1')\n",
        "plt.ylabel('t-SNE Component 2')\n",
        "plt.grid(True)\n",
        "\n",
        "# UMAP plot\n",
        "plt.subplot(1, 3, 3)\n",
        "sns.scatterplot(x='UMAP_1', y='UMAP_2', hue=\"Steroidal\", data=plot_data, s=20)\n",
        "plt.title('UMAP')\n",
        "plt.xlabel('UMAP Component 1')\n",
        "plt.ylabel('UMAP Component 2')\n",
        "plt.grid(True)\n",
        "\n",
        "plt.tight_layout()\n",
        "plt.show()"
      ],
      "metadata": {
        "id": "Rd6pCtnM0dZY",
        "cellView": "form"
      },
      "execution_count": null,
      "outputs": []
    }
  ]
}